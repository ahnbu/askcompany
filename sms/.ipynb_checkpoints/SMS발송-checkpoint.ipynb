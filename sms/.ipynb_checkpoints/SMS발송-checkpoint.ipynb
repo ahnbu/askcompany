{
 "cells": [
  {
   "cell_type": "code",
   "execution_count": 1,
   "metadata": {},
   "outputs": [],
   "source": [
    "import time\n",
    "import datetime\n",
    "import uuid\n",
    "import hmac\n",
    "import hashlib\n",
    "import requests\n",
    "import json"
   ]
  },
  {
   "cell_type": "code",
   "execution_count": 17,
   "metadata": {},
   "outputs": [],
   "source": [
    "import configparser"
   ]
  },
  {
   "cell_type": "code",
   "execution_count": 36,
   "metadata": {},
   "outputs": [
    {
     "data": {
      "text/plain": [
       "'E:\\\\django\\\\askcompany\\\\sms\\\\config.ini'"
      ]
     },
     "execution_count": 36,
     "metadata": {},
     "output_type": "execute_result"
    }
   ],
   "source": [
    "import os\n",
    "os.path.abspath('config.ini')"
   ]
  },
  {
   "cell_type": "code",
   "execution_count": 37,
   "metadata": {},
   "outputs": [
    {
     "data": {
      "text/plain": [
       "['E:\\\\django\\\\askcompany\\\\sms\\\\config.ini']"
      ]
     },
     "execution_count": 37,
     "metadata": {},
     "output_type": "execute_result"
    }
   ],
   "source": [
    "config = configparser.ConfigParser()\n",
    "config.read('E:\\\\django\\\\askcompany\\\\sms\\\\config.ini')"
   ]
  },
  {
   "cell_type": "code",
   "execution_count": 38,
   "metadata": {},
   "outputs": [],
   "source": [
    "apiKey = config['AUTH']['ApiKey']\n",
    "apiSecret = config['AUTH']['ApiSecret']"
   ]
  },
  {
   "cell_type": "code",
   "execution_count": 40,
   "metadata": {},
   "outputs": [
    {
     "name": "stdout",
     "output_type": "stream",
     "text": [
      "{'groupId': 'G4V20181029180330GWO9N1BHHNSHONH', 'to': '01033487728', 'from': '01033487728', 'type': 'SMS', 'statusMessage': '정상 접수(이통사로 접수 예정) ', 'country': '82', 'messageId': 'M4V201810291803307ELFVVRAVAE6YSM', 'statusCode': '2000', 'accountId': '14338506'}\n"
     ]
    }
   ],
   "source": [
    "import auth\n",
    "\n",
    "if __name__ == '__main__':\n",
    "    data = {\n",
    "        'message': {\n",
    "            'to': config['VALUE']['to'],\n",
    "            'from': config['VALUE']['from'],\n",
    "            'text': 'test'\n",
    "        }\n",
    "    }\n",
    "    res = requests.post(config['SERVER']['URI'] + 'send', headers=auth.get_headers(apiKey, apiSecret), json=data)\n",
    "    print(json.loads(res.text))"
   ]
  },
  {
   "cell_type": "code",
   "execution_count": 2,
   "metadata": {},
   "outputs": [],
   "source": [
    "def unique_id():\n",
    "    return str(uuid.uuid1().hex)\n",
    "\n",
    "def get_iso_datetime():\n",
    "    utc_offset_sec = time.altzone if time.localtime().tm_isdst else time.timezone\n",
    "    utc_offset = datetime.timedelta(seconds=-utc_offset_sec)\n",
    "    return datetime.datetime.now().replace(tzinfo=datetime.timezone(offset=utc_offset)).isoformat()\n",
    "\n",
    "def get_signature(key, msg):\n",
    "    return hmac.new(key.encode(), msg.encode(), hashlib.sha256).hexdigest()\n",
    "\n",
    "def get_headers(apiKey, apiSecret):\n",
    "    date = get_iso_datetime()\n",
    "    salt = unique_id()\n",
    "    data = date + salt\n",
    "    return {'Authorization': 'HMAC-SHA256 ApiKey=' + apiKey + ', Date=' + date + ', salt=' + salt + ', signature=' +\n",
    "                             get_signature(apiSecret, data)}"
   ]
  },
  {
   "cell_type": "code",
   "execution_count": 10,
   "metadata": {},
   "outputs": [],
   "source": [
    "apiKey = \"NCSIX8YXFOVEBDCM\"\n",
    "apiSecret = \"WVT52VV1AL1L8ZILVSBAWYCBFSK55CN5\""
   ]
  },
  {
   "cell_type": "code",
   "execution_count": 16,
   "metadata": {},
   "outputs": [
    {
     "name": "stdout",
     "output_type": "stream",
     "text": [
      "{'groupId': 'G4V2018102917465449XUOX4ZDC5RCOP', 'to': '01036228063', 'from': '01033487728', 'type': 'SMS', 'statusMessage': '정상 접수(이통사로 접수 예정) ', 'country': '82', 'messageId': 'M4V20181029174654ZXX2RER6GS5SZJE', 'statusCode': '2000', 'accountId': '14338506'}\n"
     ]
    }
   ],
   "source": [
    "data = {\n",
    "    'message': {\n",
    "        'to': '01036228063',\n",
    "        'from': '01033487728',\n",
    "        'text': '병욱이가 파이썬으로 문자발송 테스트 중',\n",
    "    }\n",
    "}\n",
    "res = requests.post('https://rest.coolsms.co.kr/messages/v4/send', headers=get_headers(apiKey, apiSecret), json=data)\n",
    "print(json.loads(res.text))"
   ]
  },
  {
   "cell_type": "code",
   "execution_count": null,
   "metadata": {},
   "outputs": [],
   "source": []
  }
 ],
 "metadata": {
  "kernelspec": {
   "display_name": "Python 3",
   "language": "python",
   "name": "python3"
  },
  "language_info": {
   "codemirror_mode": {
    "name": "ipython",
    "version": 3
   },
   "file_extension": ".py",
   "mimetype": "text/x-python",
   "name": "python",
   "nbconvert_exporter": "python",
   "pygments_lexer": "ipython3",
   "version": "3.6.6"
  }
 },
 "nbformat": 4,
 "nbformat_minor": 2
}
